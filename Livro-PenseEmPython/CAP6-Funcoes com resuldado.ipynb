{
 "cells": [
  {
   "cell_type": "code",
   "execution_count": 1,
   "source": [
    "'''\r\n",
    "    Escrevendo funçoes que retornam um valor\r\n",
    "'''\r\n",
    "def compare(x,y):\r\n",
    "    if x>y:\r\n",
    "        return 1\r\n",
    "    elif x<y:\r\n",
    "        return -1\r\n",
    "    else:\r\n",
    "        return 0\r\n",
    "\r\n",
    "print(compare(1,2))\r\n",
    "print(compare(2,1))\r\n",
    "print(compare(2,2))"
   ],
   "outputs": [
    {
     "output_type": "stream",
     "name": "stdout",
     "text": [
      "-1\n",
      "1\n",
      "0\n"
     ]
    }
   ],
   "metadata": {}
  },
  {
   "cell_type": "code",
   "execution_count": 2,
   "source": [
    "'''\r\n",
    "    1.Iniciar a funçao de forma pequena e incrementar\r\n",
    "    2.Guardar valores intermediarios para exibir e verificar\r\n",
    "    3.Remover as exibiçoes \r\n",
    "'''\r\n",
    "import math\r\n",
    "def hypotenuse(c1,c2):\r\n",
    "    '''\r\n",
    "        Calculando a hipotenusa\r\n",
    "    '''\r\n",
    "    h = math.sqrt(c1**2 + c2**2)\r\n",
    "    return h\r\n",
    "\r\n",
    "print(hypotenuse(3,4))"
   ],
   "outputs": [
    {
     "output_type": "stream",
     "name": "stdout",
     "text": [
      "5.0\n"
     ]
    }
   ],
   "metadata": {}
  },
  {
   "cell_type": "code",
   "execution_count": 8,
   "source": [
    "def is_betwenn(num1,num2,num3):\r\n",
    "    '''\r\n",
    "        Confere se o numero do meio esta entre o primeiro e o ultimo\r\n",
    "    '''\r\n",
    "    return num1<=num2<=num3\r\n",
    "\r\n",
    "is_betwenn(82,9222,1029)"
   ],
   "outputs": [
    {
     "output_type": "execute_result",
     "data": {
      "text/plain": [
       "False"
      ]
     },
     "metadata": {},
     "execution_count": 8
    }
   ],
   "metadata": {}
  },
  {
   "cell_type": "code",
   "execution_count": 10,
   "source": [
    "'''\r\n",
    "    Exercicio 6.1 : analise de pilha\r\n",
    "'''\r\n",
    "def b (z):\r\n",
    "    prod = a(z,z)\r\n",
    "    print(z,prod)\r\n",
    "    return prod\r\n",
    "\r\n",
    "\r\n",
    "def a (x,y):\r\n",
    "    x = x+1\r\n",
    "    return x*y\r\n",
    "\r\n",
    "def c(x,y,z):\r\n",
    "    total = x + y + z\r\n",
    "    square = b(total)**2\r\n",
    "    return square\r\n",
    "\r\n",
    "x = 1\r\n",
    "y = x+1\r\n",
    "print(c(x,y+3,x+y))"
   ],
   "outputs": [
    {
     "output_type": "stream",
     "name": "stdout",
     "text": [
      "9 90\n",
      "8100\n"
     ]
    }
   ],
   "metadata": {}
  },
  {
   "cell_type": "code",
   "execution_count": null,
   "source": [
    "'''\r\n",
    "    Exercicio 6.2: avaliando a funcao de ackermann\r\n",
    "'''"
   ],
   "outputs": [],
   "metadata": {}
  },
  {
   "cell_type": "code",
   "execution_count": null,
   "source": [],
   "outputs": [],
   "metadata": {}
  }
 ],
 "metadata": {
  "orig_nbformat": 4,
  "language_info": {
   "name": "python",
   "version": "3.8.8",
   "mimetype": "text/x-python",
   "codemirror_mode": {
    "name": "ipython",
    "version": 3
   },
   "pygments_lexer": "ipython3",
   "nbconvert_exporter": "python",
   "file_extension": ".py"
  },
  "kernelspec": {
   "name": "python3",
   "display_name": "Python 3.8.8 64-bit ('base': conda)"
  },
  "interpreter": {
   "hash": "3b1454a14c34d999dc0d5282e690a42a55f04aa2f928d87daba69618a17c8c4d"
  }
 },
 "nbformat": 4,
 "nbformat_minor": 2
}