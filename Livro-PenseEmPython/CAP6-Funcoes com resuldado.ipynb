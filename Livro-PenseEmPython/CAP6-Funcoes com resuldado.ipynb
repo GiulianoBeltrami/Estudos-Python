{
 "cells": [
  {
   "cell_type": "code",
   "execution_count": 1,
   "source": [
    "'''\r\n",
    "    Escrevendo funçoes que retornam um valor\r\n",
    "'''\r\n",
    "\r\n",
    "def compare(x,y):\r\n",
    "    if x>y:\r\n",
    "        return 1\r\n",
    "    elif x<y:\r\n",
    "        return -1\r\n",
    "    else:\r\n",
    "        return 0\r\n",
    "\r\n",
    "print(compare(1,2))\r\n",
    "print(compare(2,1))\r\n",
    "print(compare(2,2))"
   ],
   "outputs": [
    {
     "output_type": "stream",
     "name": "stdout",
     "text": [
      "-1\n",
      "1\n",
      "0\n"
     ]
    }
   ],
   "metadata": {}
  },
  {
   "cell_type": "code",
   "execution_count": null,
   "source": [
    "'''\r\n",
    "    1.Iniciar a funçao de forma pequena e incrementar\r\n",
    "    2.Guardar valores intermediarios para exibir e verificar\r\n",
    "    3.Remover as exibiçoes \r\n",
    "'''"
   ],
   "outputs": [],
   "metadata": {}
  }
 ],
 "metadata": {
  "orig_nbformat": 4,
  "language_info": {
   "name": "python",
   "version": "3.8.8",
   "mimetype": "text/x-python",
   "codemirror_mode": {
    "name": "ipython",
    "version": 3
   },
   "pygments_lexer": "ipython3",
   "nbconvert_exporter": "python",
   "file_extension": ".py"
  },
  "kernelspec": {
   "name": "python3",
   "display_name": "Python 3.8.8 64-bit ('base': conda)"
  },
  "interpreter": {
   "hash": "3b1454a14c34d999dc0d5282e690a42a55f04aa2f928d87daba69618a17c8c4d"
  }
 },
 "nbformat": 4,
 "nbformat_minor": 2
}