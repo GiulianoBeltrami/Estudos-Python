{
 "cells": [
  {
   "cell_type": "code",
   "execution_count": 1,
   "id": "2e5a79d5",
   "metadata": {},
   "outputs": [
    {
     "name": "stdout",
     "output_type": "stream",
     "text": [
      "Hello-2\n",
      "Hello-1\n",
      "Hello-2\n",
      "Hello-1\n"
     ]
    }
   ],
   "source": [
    "'''\n",
    "    Usando recursão\n",
    "    Esse programa cria uma função recursiva print_n que printa n vezes oque foi colocado de input\n",
    "    Depois cria o do_n que executa n vezes a função recursiva que foi colocada no input\n",
    "'''\n",
    "def print_n(s,n):\n",
    "    if n <= 0 :\n",
    "        return\n",
    "    print('{}-{}'.format(s,n))\n",
    "    return print_n(s,n-1)\n",
    "\n",
    "def do_n(func,s,n,num):\n",
    "    if num<=0:\n",
    "        return\n",
    "    func(s,n)\n",
    "    do_n(func,s,n,num-1)\n",
    "\n",
    "do_n(print_n,'Hello',2,2)"
   ]
  },
  {
   "cell_type": "code",
   "execution_count": 23,
   "id": "d53a7e14",
   "metadata": {},
   "outputs": [
    {
     "name": "stdout",
     "output_type": "stream",
     "text": [
      "18851.0 dias 0.0 horas 16.0 minutos 54.18708324432373 segundos\n"
     ]
    }
   ],
   "source": [
    "'''\n",
    "   Exercício 5.1 : Ver quanto tempo passou que Greenwich se tornou uma referência de horário\n",
    "'''\n",
    "import time\n",
    "\n",
    "#O time.time() retorna o número de segundos de referência de Greenwich\n",
    "#time.time()\n",
    "\n",
    "\n",
    "def TempoApartirDosSegundos(segundos):\n",
    "    #Segundos -> minutos : número de segundos / 60\n",
    "    minutos = segundos//60\n",
    "    segundos_restantes = segundos%60\n",
    "    #Minutos -> horas : número de minutos / 60\n",
    "    horas = minutos//60\n",
    "    minutos_restantes = minutos%60\n",
    "    #Horas -> dias : número de horas / 24\n",
    "    #Dias\n",
    "    dias = horas//24\n",
    "    horas_restantes = horas%24\n",
    "    return dias,horas_restantes,minutos_restantes,segundos_restantes\n",
    "d,h,m,s = TempoApartirDosSegundos(time.time())\n",
    "print(\"{} dias {} horas {} minutos {} segundos\".format(d,h,m,s))"
   ]
  },
  {
   "cell_type": "code",
   "execution_count": 42,
   "id": "60dda69a",
   "metadata": {},
   "outputs": [
    {
     "data": {
      "text/plain": [
       "\"No,that doesn't work!\""
      ]
     },
     "execution_count": 42,
     "metadata": {},
     "output_type": "execute_result"
    }
   ],
   "source": [
    "'''\n",
    "    Exercício 5.2 : Conferindo o teorema de Fermat\n",
    "'''\n",
    "\n",
    "#Não existe um número inteiro e positivo a,b,c tal que para n>2 a^n+b^n = c^n\n",
    "\n",
    "def check_fermat(a,b,c,n):\n",
    "    fermat = a**n+b**n == c**n\n",
    "    #Checar se o teorema de fermat é válido para n > 2\n",
    "    if fermat == True and n > 2:\n",
    "        return \"Holy,smokes,Fermat was wrong!\"\n",
    "    else:\n",
    "        return \"No,that doesn't work!\"\n",
    "        \n",
    "check_fermat(1,2,3,20)"
   ]
  },
  {
   "cell_type": "code",
   "execution_count": null,
   "id": "f13f5b6f",
   "metadata": {},
   "outputs": [],
   "source": []
  }
 ],
 "metadata": {
  "kernelspec": {
   "display_name": "Python 3",
   "language": "python",
   "name": "python3"
  },
  "language_info": {
   "codemirror_mode": {
    "name": "ipython",
    "version": 3
   },
   "file_extension": ".py",
   "mimetype": "text/x-python",
   "name": "python",
   "nbconvert_exporter": "python",
   "pygments_lexer": "ipython3",
   "version": "3.8.8"
  }
 },
 "nbformat": 4,
 "nbformat_minor": 5
}
