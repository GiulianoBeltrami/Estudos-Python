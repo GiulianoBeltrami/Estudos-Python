{
 "cells": [
  {
   "cell_type": "code",
   "execution_count": 1,
   "source": [
    "'''\r\n",
    "    Usando recursão\r\n",
    "    Esse programa cria uma função recursiva print_n que printa n vezes oque foi colocado de input\r\n",
    "    Depois cria o do_n que executa n vezes a função recursiva que foi colocada no input\r\n",
    "'''\r\n",
    "def print_n(s,n):\r\n",
    "    if n <= 0 :\r\n",
    "        return\r\n",
    "    print('{}-{}'.format(s,n))\r\n",
    "    return print_n(s,n-1)\r\n",
    "\r\n",
    "def do_n(func,s,n,num):\r\n",
    "    if num<=0:\r\n",
    "        return\r\n",
    "    func(s,n)\r\n",
    "    do_n(func,s,n,num-1)\r\n",
    "\r\n",
    "do_n(print_n,'Hello',2,2)"
   ],
   "outputs": [
    {
     "output_type": "stream",
     "name": "stdout",
     "text": [
      "Hello-2\n",
      "Hello-1\n",
      "Hello-2\n",
      "Hello-1\n"
     ]
    }
   ],
   "metadata": {}
  },
  {
   "cell_type": "code",
   "execution_count": 2,
   "source": [
    "'''\r\n",
    "   Exercício 5.1 : Ver quanto tempo passou que Greenwich se tornou uma referência de horário\r\n",
    "'''\r\n",
    "import time\r\n",
    "\r\n",
    "#O time.time() retorna o número de segundos de referência de Greenwich\r\n",
    "#time.time()\r\n",
    "\r\n",
    "\r\n",
    "def TempoApartirDosSegundos(segundos):\r\n",
    "    #Segundos -> minutos : número de segundos / 60\r\n",
    "    minutos = segundos//60\r\n",
    "    segundos_restantes = segundos%60\r\n",
    "    #Minutos -> horas : número de minutos / 60\r\n",
    "    horas = minutos//60\r\n",
    "    minutos_restantes = minutos%60\r\n",
    "    #Horas -> dias : número de horas / 24\r\n",
    "    #Dias\r\n",
    "    dias = horas//24\r\n",
    "    horas_restantes = horas%24\r\n",
    "    return dias,horas_restantes,minutos_restantes,segundos_restantes\r\n",
    "d,h,m,s = TempoApartirDosSegundos(time.time())\r\n",
    "print(\"{} dias {} horas {} minutos {} segundos\".format(d,h,m,s))"
   ],
   "outputs": [
    {
     "output_type": "stream",
     "name": "stdout",
     "text": [
      "18856.0 dias 13.0 horas 35.0 minutos 57.4778265953064 segundos\n"
     ]
    }
   ],
   "metadata": {}
  },
  {
   "cell_type": "code",
   "execution_count": 3,
   "source": [
    "'''\r\n",
    "    Exercício 5.2 : Conferindo o teorema de Fermat\r\n",
    "'''\r\n",
    "\r\n",
    "#Não existe um número inteiro e positivo a,b,c tal que para n>2 a^n+b^n = c^n\r\n",
    "\r\n",
    "def check_fermat(a,b,c,n):\r\n",
    "    fermat = a**n+b**n == c**n\r\n",
    "    #Checar se o teorema de fermat é válido para n > 2\r\n",
    "    if fermat == True and n > 2:\r\n",
    "        return \"Holy,smokes,Fermat was wrong!\"\r\n",
    "    else:\r\n",
    "        return \"No,that doesn't work!\"\r\n",
    "        \r\n",
    "check_fermat(1,2,3,20)"
   ],
   "outputs": [
    {
     "output_type": "execute_result",
     "data": {
      "text/plain": [
       "\"No,that doesn't work!\""
      ]
     },
     "metadata": {},
     "execution_count": 3
    }
   ],
   "metadata": {}
  },
  {
   "cell_type": "code",
   "execution_count": null,
   "source": [
    "'''\r\n",
    "    Exercício 5.3 : Formar um triângulos\r\n",
    "'''\r\n",
    "\r\n",
    "'''\r\n",
    "a + b > c\r\n",
    "A soma de duas arestas tem que ser maior que a terceira se for igual \r\n",
    "o triângulo é degenerado e se for menor não é um triângulo\r\n",
    "'''\r\n",
    "\r\n",
    "def is_triangle(aresta1,aresta2,aresta3):\r\n",
    "    \r\n",
    "    check1 = aresta2 + aresta3 >= aresta1\r\n",
    "    check2 = aresta1 + aresta3 >= aresta2\r\n",
    "    check3 = aresta1 + aresta2 >= aresta3\r\n",
    "    if(check1 == False or check2 == False or check3 == False):\r\n",
    "        return \"No\"\r\n",
    "    else:\r\n",
    "        return \"Yes\"\r\n",
    "def input_values():\r\n",
    "    aresta1 = int(input())\r\n",
    "    aresta2 = int(input())\r\n",
    "    aresta3 = int(input())\r\n",
    "    return is_triangle(aresta1,aresta2,aresta3)\r\n",
    "\r\n",
    "input_values()"
   ],
   "outputs": [],
   "metadata": {}
  },
  {
   "cell_type": "code",
   "execution_count": null,
   "source": [
    "'''\r\n",
    "    Exercício 5.4 : Saída do programa\r\n",
    "'''\r\n",
    "def recurse(n,s):\r\n",
    "    '''\r\n",
    "        Essa função soma os valores de n a s até o n chegar a 0, quando n\r\n",
    "        for 0 o valor de s será pritado na tela\r\n",
    "        \r\n",
    "        Caso n seja um número negativo a recursão entrará em um loop infinito\r\n",
    "    '''\r\n",
    "    if n == 0:\r\n",
    "        print(s)\r\n",
    "    else:\r\n",
    "        recurse(n-1,n+s)\r\n",
    "recurse(3,0)"
   ],
   "outputs": [
    {
     "output_type": "stream",
     "name": "stdout",
     "text": [
      "6\n"
     ]
    }
   ],
   "metadata": {}
  },
  {
   "cell_type": "code",
   "execution_count": null,
   "source": [
    "'''\r\n",
    "    Exercício 5.5 : Compreensão de uma função\r\n",
    "    rt -> right ; fd -> foward ; lt -> left ; bk -> backward\r\n",
    "'''\r\n",
    "import turtle\r\n",
    "t = turtle.Turtle()\r\n",
    "\r\n",
    "def draw(t,length,n):\r\n",
    "    '''\r\n",
    "    '''\r\n",
    "    if n == 0:\r\n",
    "        return\r\n",
    "    angle = 50\r\n",
    "    t.fd(length * n)\r\n",
    "    t.lt(angle)\r\n",
    "    draw(t,length,n-1)\r\n",
    "    t.rt(2 * angle)\r\n",
    "    draw(t,length,n-1)\r\n",
    "    t.lt(angle)\r\n",
    "    t.bk(length * n)\r\n",
    "    \r\n",
    "draw(t,5,5)\r\n",
    "turtle.done()"
   ],
   "outputs": [],
   "metadata": {}
  },
  {
   "cell_type": "code",
   "execution_count": null,
   "source": [
    "'''\r\n",
    "    Exercício 5.5 : Curva de Koch\r\n",
    "'''\r\n",
    "import turtle\r\n",
    "\r\n",
    "\r\n",
    "def koch(t,length):\r\n",
    "    if length < 3:\r\n",
    "        t.forward(length)\r\n",
    "        return\r\n",
    "    koch(t,length/3)\r\n",
    "    t.lt(60)\r\n",
    "    koch(t,length/3)\r\n",
    "    t.rt(120)\r\n",
    "    koch(t,length/3)\r\n",
    "    t.lt(60)\r\n",
    "    koch(t,length/3)\r\n",
    "    \r\n",
    "def snowflakes(t,length):\r\n",
    "    for i in range(3):\r\n",
    "        koch(t,length)\r\n",
    "        t.rt(120)\r\n",
    "\r\n",
    "t = turtle.Turtle()\r\n",
    "turtle.pu()\r\n",
    "turtle.goto(-150,90)\r\n",
    "snowflakes(t,300)\r\n",
    "turtle.mainloop()\r\n",
    "turtle.done()"
   ],
   "outputs": [],
   "metadata": {}
  },
  {
   "cell_type": "code",
   "execution_count": null,
   "source": [],
   "outputs": [],
   "metadata": {}
  }
 ],
 "metadata": {
  "kernelspec": {
   "name": "python3",
   "display_name": "Python 3.8.8 64-bit ('base': conda)"
  },
  "language_info": {
   "codemirror_mode": {
    "name": "ipython",
    "version": 3
   },
   "file_extension": ".py",
   "mimetype": "text/x-python",
   "name": "python",
   "nbconvert_exporter": "python",
   "pygments_lexer": "ipython3",
   "version": "3.8.8"
  },
  "interpreter": {
   "hash": "3b1454a14c34d999dc0d5282e690a42a55f04aa2f928d87daba69618a17c8c4d"
  }
 },
 "nbformat": 4,
 "nbformat_minor": 5
}