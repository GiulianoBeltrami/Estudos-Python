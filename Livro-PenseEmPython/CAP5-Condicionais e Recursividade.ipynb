{
 "cells": [
  {
   "cell_type": "code",
   "execution_count": 2,
   "id": "2e5a79d5",
   "metadata": {},
   "outputs": [
    {
     "name": "stdout",
     "output_type": "stream",
     "text": [
      "Hello-2\n",
      "Hello-1\n",
      "Hello-2\n",
      "Hello-1\n"
     ]
    }
   ],
   "source": [
    "'''\n",
    "    Usando recursão\n",
    "    Esse programa cria uma função recursiva print_n que printa n vezes oque foi colocado de input\n",
    "    Depois cria o do_n que executa n vezes a função recursiva que foi colocada no input\n",
    "'''\n",
    "def print_n(s,n):\n",
    "    if n <= 0 :\n",
    "        return\n",
    "    print('{}-{}'.format(s,n))\n",
    "    return print_n(s,n-1)\n",
    "\n",
    "def do_n(func,s,n,num):\n",
    "    if num<=0:\n",
    "        return\n",
    "    func(s,n)\n",
    "    do_n(func,s,n,num-1)\n",
    "\n",
    "do_n(print_n,'Hello',2,2)"
   ]
  },
  {
   "cell_type": "code",
   "execution_count": 3,
   "id": "d53a7e14",
   "metadata": {},
   "outputs": [
    {
     "name": "stdout",
     "output_type": "stream",
     "text": [
      "18852.0 dias 14.0 horas 2.0 minutos 13.998217821121216 segundos\n"
     ]
    }
   ],
   "source": [
    "'''\n",
    "   Exercício 5.1 : Ver quanto tempo passou que Greenwich se tornou uma referência de horário\n",
    "'''\n",
    "import time\n",
    "\n",
    "#O time.time() retorna o número de segundos de referência de Greenwich\n",
    "#time.time()\n",
    "\n",
    "\n",
    "def TempoApartirDosSegundos(segundos):\n",
    "    #Segundos -> minutos : número de segundos / 60\n",
    "    minutos = segundos//60\n",
    "    segundos_restantes = segundos%60\n",
    "    #Minutos -> horas : número de minutos / 60\n",
    "    horas = minutos//60\n",
    "    minutos_restantes = minutos%60\n",
    "    #Horas -> dias : número de horas / 24\n",
    "    #Dias\n",
    "    dias = horas//24\n",
    "    horas_restantes = horas%24\n",
    "    return dias,horas_restantes,minutos_restantes,segundos_restantes\n",
    "d,h,m,s = TempoApartirDosSegundos(time.time())\n",
    "print(\"{} dias {} horas {} minutos {} segundos\".format(d,h,m,s))"
   ]
  },
  {
   "cell_type": "code",
   "execution_count": 4,
   "id": "60dda69a",
   "metadata": {},
   "outputs": [
    {
     "data": {
      "text/plain": [
       "\"No,that doesn't work!\""
      ]
     },
     "execution_count": 4,
     "metadata": {},
     "output_type": "execute_result"
    }
   ],
   "source": [
    "'''\n",
    "    Exercício 5.2 : Conferindo o teorema de Fermat\n",
    "'''\n",
    "\n",
    "#Não existe um número inteiro e positivo a,b,c tal que para n>2 a^n+b^n = c^n\n",
    "\n",
    "def check_fermat(a,b,c,n):\n",
    "    fermat = a**n+b**n == c**n\n",
    "    #Checar se o teorema de fermat é válido para n > 2\n",
    "    if fermat == True and n > 2:\n",
    "        return \"Holy,smokes,Fermat was wrong!\"\n",
    "    else:\n",
    "        return \"No,that doesn't work!\"\n",
    "        \n",
    "check_fermat(1,2,3,20)"
   ]
  },
  {
   "cell_type": "code",
   "execution_count": 18,
   "id": "f13f5b6f",
   "metadata": {},
   "outputs": [
    {
     "name": "stdout",
     "output_type": "stream",
     "text": [
      "12\n",
      "12\n",
      "1\n"
     ]
    },
    {
     "data": {
      "text/plain": [
       "'Yes'"
      ]
     },
     "execution_count": 18,
     "metadata": {},
     "output_type": "execute_result"
    }
   ],
   "source": [
    "'''\n",
    "    Exercício 5.3 : Formar um triângulos\n",
    "'''\n",
    "\n",
    "'''\n",
    "a + b > c\n",
    "A soma de duas arestas tem que ser maior que a terceira se for igual \n",
    "o triângulo é degenerado e se for menor não é um triângulo\n",
    "'''\n",
    "\n",
    "def is_triangle(aresta1,aresta2,aresta3):\n",
    "    \n",
    "    check1 = aresta2 + aresta3 >= aresta1\n",
    "    check2 = aresta1 + aresta3 >= aresta2\n",
    "    check3 = aresta1 + aresta2 >= aresta3\n",
    "    if(check1 == False or check2 == False or check3 == False):\n",
    "        return \"No\"\n",
    "    else:\n",
    "        return \"Yes\"\n",
    "def input_values():\n",
    "    aresta1 = int(input())\n",
    "    aresta2 = int(input())\n",
    "    aresta3 = int(input())\n",
    "    return is_triangle(aresta1,aresta2,aresta3)\n",
    "\n",
    "input_values()"
   ]
  },
  {
   "cell_type": "code",
   "execution_count": 22,
   "id": "3238eb31",
   "metadata": {},
   "outputs": [
    {
     "name": "stdout",
     "output_type": "stream",
     "text": [
      "6\n"
     ]
    }
   ],
   "source": [
    "'''\n",
    "    Exercício 5.4 : Saída do programa\n",
    "'''\n",
    "def recurse(n,s):\n",
    "    '''\n",
    "        Essa função soma os valores de n a s até o n chegar a 0, quando n\n",
    "        for 0 o valor de s será pritado na tela\n",
    "        \n",
    "        Caso n seja um número negativo a recursão entrará em um loop infinito\n",
    "    '''\n",
    "    if n == 0:\n",
    "        print(s)\n",
    "    else:\n",
    "        recurse(n-1,n+s)\n",
    "recurse(3,0)"
   ]
  },
  {
   "cell_type": "code",
   "execution_count": 1,
   "id": "f99ac8d2",
   "metadata": {},
   "outputs": [],
   "source": [
    "'''\n",
    "    Exercício 5.5 : Compreensão de uma função\n",
    "    rt -> right ; fd -> foward ; lt -> left ; bk -> backward\n",
    "'''\n",
    "import turtle\n",
    "t = turtle.Turtle()\n",
    "def draw(t,length,n):\n",
    "    '''\n",
    "    '''\n",
    "    if n == 0:\n",
    "        return\n",
    "    angle = 50\n",
    "    t.fd(length * n)\n",
    "    t.lt(angle)\n",
    "    draw(t,length,n-1)\n",
    "    t.rt(2 * angle)\n",
    "    draw(t,length,n-1)\n",
    "    t.lt(angle)\n",
    "    t.bk(length * n)\n",
    "    \n",
    "draw(t,5,2)"
   ]
  },
  {
   "cell_type": "code",
   "execution_count": null,
   "id": "acd7def7",
   "metadata": {},
   "outputs": [],
   "source": []
  }
 ],
 "metadata": {
  "kernelspec": {
   "display_name": "Python 3",
   "language": "python",
   "name": "python3"
  },
  "language_info": {
   "codemirror_mode": {
    "name": "ipython",
    "version": 3
   },
   "file_extension": ".py",
   "mimetype": "text/x-python",
   "name": "python",
   "nbconvert_exporter": "python",
   "pygments_lexer": "ipython3",
   "version": "3.8.8"
  }
 },
 "nbformat": 4,
 "nbformat_minor": 5
}
