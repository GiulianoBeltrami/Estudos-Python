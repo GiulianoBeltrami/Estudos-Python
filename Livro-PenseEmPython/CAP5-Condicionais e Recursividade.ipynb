{
 "cells": [
  {
   "cell_type": "code",
   "execution_count": 47,
   "id": "2e5a79d5",
   "metadata": {},
   "outputs": [
    {
     "name": "stdout",
     "output_type": "stream",
     "text": [
      "Hello-2\n",
      "Hello-1\n",
      "Hello-2\n",
      "Hello-1\n"
     ]
    }
   ],
   "source": [
    "'''\n",
    "    Usando recursão\n",
    "    Esse programa cria uma função recursiva print_n que printa n vezes oque foi colocado de input\n",
    "    Depois cria o do_n que executa n vezes a função recursiva que foi colocada no input\n",
    "'''\n",
    "def print_n(s,n):\n",
    "    if n <= 0 :\n",
    "        return\n",
    "    print('{}-{}'.format(s,n))\n",
    "    return print_n(s,n-1)\n",
    "\n",
    "def do_n(func,s,n,num):\n",
    "    if num<=0:\n",
    "        return\n",
    "    func(s,n)\n",
    "    do_n(func,s,n,num-1)\n",
    "\n",
    "do_n(print_n,'Hello',2,2)"
   ]
  }
 ],
 "metadata": {
  "kernelspec": {
   "display_name": "Python 3",
   "language": "python",
   "name": "python3"
  },
  "language_info": {
   "codemirror_mode": {
    "name": "ipython",
    "version": 3
   },
   "file_extension": ".py",
   "mimetype": "text/x-python",
   "name": "python",
   "nbconvert_exporter": "python",
   "pygments_lexer": "ipython3",
   "version": "3.8.8"
  }
 },
 "nbformat": 4,
 "nbformat_minor": 5
}
